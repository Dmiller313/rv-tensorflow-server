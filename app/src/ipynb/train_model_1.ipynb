{
 "cells": [
  {
   "cell_type": "code",
   "execution_count": 8,
   "metadata": {},
   "outputs": [
    {
     "name": "stdout",
     "output_type": "stream",
     "text": [
      "Train on 198 samples, validate on 86 samples\n",
      "Epoch 1/10\n",
      "198/198 [==============================] - 2s 11ms/sample - loss: -0.1803 - accuracy: 0.7424 - val_loss: -16.4697 - val_accuracy: 0.0000e+00\n",
      "Epoch 2/10\n",
      "198/198 [==============================] - 2s 10ms/sample - loss: -3.6767 - accuracy: 0.7778 - val_loss: -64.6374 - val_accuracy: 0.0000e+00\n",
      "Epoch 3/10\n",
      "198/198 [==============================] - 2s 10ms/sample - loss: -11.1370 - accuracy: 0.7626 - val_loss: -155.0488 - val_accuracy: 0.0000e+00\n",
      "Epoch 4/10\n",
      "198/198 [==============================] - 2s 9ms/sample - loss: -25.4786 - accuracy: 0.8232 - val_loss: -374.7362 - val_accuracy: 0.0000e+00\n",
      "Epoch 5/10\n",
      "198/198 [==============================] - 2s 10ms/sample - loss: -57.8833 - accuracy: 0.8030 - val_loss: -685.6329 - val_accuracy: 0.0000e+00\n",
      "Epoch 6/10\n",
      "198/198 [==============================] - 2s 10ms/sample - loss: -101.6066 - accuracy: 0.7778 - val_loss: -1161.8979 - val_accuracy: 0.0000e+00\n",
      "Epoch 7/10\n",
      "198/198 [==============================] - 2s 10ms/sample - loss: -159.6941 - accuracy: 0.7980 - val_loss: -1935.8896 - val_accuracy: 0.0000e+00\n",
      "Epoch 8/10\n",
      "198/198 [==============================] - 2s 10ms/sample - loss: -245.1187 - accuracy: 0.7626 - val_loss: -2604.4793 - val_accuracy: 0.0000e+00\n",
      "Epoch 9/10\n",
      "198/198 [==============================] - 2s 10ms/sample - loss: -351.4711 - accuracy: 0.7727 - val_loss: -3548.6330 - val_accuracy: 0.0000e+00\n",
      "Epoch 10/10\n",
      "198/198 [==============================] - 2s 10ms/sample - loss: -472.8301 - accuracy: 0.8131 - val_loss: -4898.6648 - val_accuracy: 0.0000e+00\n",
      "INFO:tensorflow:Assets written to: 256_optimized.model/assets\n"
     ]
    }
   ],
   "source": [
    "import tensorflow as tf\n",
    "import pickle\n",
    "\n",
    "from tensorflow.keras.datasets import cifar10\n",
    "from tensorflow.keras.preprocessing.image import ImageDataGenerator\n",
    "from tensorflow.keras.models import Sequential\n",
    "from tensorflow.keras.layers import Dense, Dropout, Activation, Flatten\n",
    "from tensorflow.keras.layers import Conv2D, MaxPooling2D\n",
    "\n",
    "# training the model via docker is SLOW!\n",
    "\n",
    "pickle_in = open(\"X.pickle\",\"rb\")\n",
    "X = pickle.load(pickle_in)\n",
    "\n",
    "pickle_in = open(\"y.pickle\",\"rb\")\n",
    "y = pickle.load(pickle_in)\n",
    "\n",
    "X = X/255.0\n",
    "\n",
    "model = Sequential()\n",
    "\n",
    "model.add(Conv2D(128, (3, 3), input_shape=X.shape[1:]))\n",
    "model.add(Activation('relu'))\n",
    "model.add(MaxPooling2D(pool_size=(2, 2)))\n",
    "\n",
    "model.add(Flatten())\n",
    "\n",
    "model.add(Dense(1))\n",
    "model.add(Activation('sigmoid'))\n",
    "\n",
    "model.compile(loss='binary_crossentropy',\n",
    "              optimizer='adam',\n",
    "              metrics=['accuracy'])\n",
    "\n",
    "model.fit(X, y,\n",
    "          batch_size=16,\n",
    "          epochs=10,\n",
    "          validation_split=0.3)\n",
    "\n",
    "model.save('256_optimized.model')"
   ]
  },
  {
   "cell_type": "code",
   "execution_count": null,
   "metadata": {},
   "outputs": [],
   "source": []
  },
  {
   "cell_type": "code",
   "execution_count": null,
   "metadata": {},
   "outputs": [],
   "source": []
  },
  {
   "cell_type": "code",
   "execution_count": null,
   "metadata": {},
   "outputs": [],
   "source": []
  }
 ],
 "metadata": {
  "kernelspec": {
   "display_name": "Python 3",
   "language": "python",
   "name": "python3"
  },
  "language_info": {
   "codemirror_mode": {
    "name": "ipython",
    "version": 3
   },
   "file_extension": ".py",
   "mimetype": "text/x-python",
   "name": "python",
   "nbconvert_exporter": "python",
   "pygments_lexer": "ipython3",
   "version": "3.6.9"
  }
 },
 "nbformat": 4,
 "nbformat_minor": 4
}
