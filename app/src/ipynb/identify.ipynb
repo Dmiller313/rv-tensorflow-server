{
 "cells": [
  {
   "cell_type": "code",
   "execution_count": 6,
   "metadata": {},
   "outputs": [
    {
     "name": "stdout",
     "output_type": "stream",
     "text": [
      "./data/sample/coffee (3).png\n",
      "[[0.]]\n",
      "coffee\n",
      "./data/sample/bottle (1).png\n",
      "[[1.]]\n",
      "bottle\n",
      "./data/sample/coffee (1).png\n",
      "[[0.]]\n",
      "coffee\n",
      "./data/sample/bottle (3).png\n",
      "[[1.]]\n",
      "bottle\n",
      "./data/sample/coffee (2).png\n",
      "[[0.]]\n",
      "coffee\n",
      "./data/sample/bottle (2).png\n",
      "[[1.]]\n",
      "bottle\n"
     ]
    }
   ],
   "source": [
    "import cv2\n",
    "import os\n",
    "import tensorflow as tf\n",
    "\n",
    "DATADIR = \"./data/sample/\"\n",
    "CATEGORIES = [\"coffee\",\"bottle\",\"cardboard\"]\n",
    "\n",
    "def prepare (filepath):\n",
    "    IMG_SIZE = 128\n",
    "    img_array = cv2.imread(filepath, cv2.IMREAD_GRAYSCALE)\n",
    "    new_array = cv2.resize(img_array, (IMG_SIZE, IMG_SIZE))\n",
    "    return new_array.reshape(-1, IMG_SIZE, IMG_SIZE, 1)\n",
    "\n",
    "model = tf.keras.models.load_model(\"256_optimized.model\")\n",
    "\n",
    "for sample in os.listdir(DATADIR):\n",
    "    if(sample != \".ipynb_checkpoints\"):\n",
    "        img = os.path.join(DATADIR,sample)\n",
    "        print(img)\n",
    "        prediction = model.predict([prepare(img)])\n",
    "        print(prediction)\n",
    "        print(CATEGORIES[int(max(prediction))])"
   ]
  },
  {
   "cell_type": "code",
   "execution_count": null,
   "metadata": {},
   "outputs": [],
   "source": []
  },
  {
   "cell_type": "code",
   "execution_count": null,
   "metadata": {},
   "outputs": [],
   "source": []
  }
 ],
 "metadata": {
  "kernelspec": {
   "display_name": "Python 3",
   "language": "python",
   "name": "python3"
  },
  "language_info": {
   "codemirror_mode": {
    "name": "ipython",
    "version": 3
   },
   "file_extension": ".py",
   "mimetype": "text/x-python",
   "name": "python",
   "nbconvert_exporter": "python",
   "pygments_lexer": "ipython3",
   "version": "3.6.9"
  }
 },
 "nbformat": 4,
 "nbformat_minor": 4
}
